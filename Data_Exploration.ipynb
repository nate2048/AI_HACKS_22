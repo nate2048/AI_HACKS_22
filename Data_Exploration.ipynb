{
  "nbformat": 4,
  "nbformat_minor": 0,
  "metadata": {
    "colab": {
      "provenance": [],
      "collapsed_sections": [],
      "toc_visible": true
    },
    "kernelspec": {
      "name": "python3",
      "display_name": "Python 3"
    },
    "language_info": {
      "name": "python"
    }
  },
  "cells": [
    {
      "cell_type": "markdown",
      "source": [
        "#AcademicGatorAid Data Exploration\n",
        "\n",
        "- By Nathan Schoedl and Jiahe Yao "
      ],
      "metadata": {
        "id": "NfwaLIxIQ1RW"
      }
    },
    {
      "cell_type": "code",
      "execution_count": 310,
      "metadata": {
        "id": "P0sO2QchnyeP"
      },
      "outputs": [],
      "source": [
        "import pandas as pd\n",
        "from sklearn.preprocessing import QuantileTransformer\n",
        "from sklearn.cluster import KMeans\n",
        "from sklearn.manifold import TSNE\n",
        "import matplotlib.pyplot as plt\n",
        "import numpy as np"
      ]
    },
    {
      "cell_type": "markdown",
      "source": [
        "## Import and Prepare Training Data \n",
        "First we will perform data preprocessing to later explore the data we are working with."
      ],
      "metadata": {
        "id": "uDzHJpZ0AWDD"
      }
    },
    {
      "cell_type": "code",
      "source": [
        "# import data\n",
        "url = 'https://raw.githubusercontent.com/nate2048/AI_HACKS_22/main/graduation_rate.csv'\n",
        "df = pd.read_csv(url)"
      ],
      "metadata": {
        "id": "nLP9VWFirNsO"
      },
      "execution_count": 311,
      "outputs": []
    },
    {
      "cell_type": "code",
      "source": [
        "# rename columns\n",
        "df = df.rename(columns={'ACT composite score':'ACT', 'SAT total score':'SAT', \n",
        "                        'parental level of education':'PHLE', 'parental income':'p_income',\n",
        "                        'high school gpa':'hs_gpa', 'college gpa':'c_gpa', 'years to graduate':'ytg'})"
      ],
      "metadata": {
        "id": "ANGxkypQEgxA"
      },
      "execution_count": 312,
      "outputs": []
    },
    {
      "cell_type": "code",
      "source": [
        "# transform ordinal data into numerical\n",
        "df['PHLE'].replace(['some high school', 'high school', \n",
        "                                           'some college', 'associate\\'s degree'\n",
        "                                           , 'bachelor\\'s degree', 'master\\'s degree']\n",
        "                                          , [0,1,2,3,4,5], inplace=True)"
      ],
      "metadata": {
        "id": "HRYJUqA7F56g"
      },
      "execution_count": 313,
      "outputs": []
    },
    {
      "cell_type": "code",
      "source": [
        "# perform a normal transformation on SAT to be able to standardize this test to \n",
        "# other test such as the ACT\n",
        "\n",
        "SAT = df['SAT'].values.reshape(-1, 1)\n",
        "normal_SAT = QuantileTransformer(n_quantiles=500, output_distribution='normal').fit(SAT)\n",
        "df['SAT'] = normal_SAT.transform(SAT)"
      ],
      "metadata": {
        "id": "otuEVT23ApOr"
      },
      "execution_count": 314,
      "outputs": []
    },
    {
      "cell_type": "code",
      "source": [
        "# coorelation to test for variables that are highly coorelated\n",
        "\n",
        "df.corr()"
      ],
      "metadata": {
        "colab": {
          "base_uri": "https://localhost:8080/",
          "height": 269
        },
        "id": "mRZMbiIWByaX",
        "outputId": "e5200b71-e401-4820-e99c-3a5922ac9b8c"
      },
      "execution_count": 315,
      "outputs": [
        {
          "output_type": "execute_result",
          "data": {
            "text/plain": [
              "               ACT       SAT      PHLE  p_income    hs_gpa     c_gpa       ytg\n",
              "ACT       1.000000  0.880746  0.303980  0.183879  0.874206  0.507349 -0.129880\n",
              "SAT       0.880746  1.000000  0.430884  0.248544  0.898196  0.518436 -0.122640\n",
              "PHLE      0.303980  0.430884  1.000000  0.649509  0.398772  0.366635 -0.168434\n",
              "p_income  0.183879  0.248544  0.649509  1.000000  0.227238  0.460863 -0.239500\n",
              "hs_gpa    0.874206  0.898196  0.398772  0.227238  1.000000  0.492489 -0.119524\n",
              "c_gpa     0.507349  0.518436  0.366635  0.460863  0.492489  1.000000 -0.467499\n",
              "ytg      -0.129880 -0.122640 -0.168434 -0.239500 -0.119524 -0.467499  1.000000"
            ],
            "text/html": [
              "\n",
              "  <div id=\"df-cfb9903b-5d40-4536-b09d-f05802abd66a\">\n",
              "    <div class=\"colab-df-container\">\n",
              "      <div>\n",
              "<style scoped>\n",
              "    .dataframe tbody tr th:only-of-type {\n",
              "        vertical-align: middle;\n",
              "    }\n",
              "\n",
              "    .dataframe tbody tr th {\n",
              "        vertical-align: top;\n",
              "    }\n",
              "\n",
              "    .dataframe thead th {\n",
              "        text-align: right;\n",
              "    }\n",
              "</style>\n",
              "<table border=\"1\" class=\"dataframe\">\n",
              "  <thead>\n",
              "    <tr style=\"text-align: right;\">\n",
              "      <th></th>\n",
              "      <th>ACT</th>\n",
              "      <th>SAT</th>\n",
              "      <th>PHLE</th>\n",
              "      <th>p_income</th>\n",
              "      <th>hs_gpa</th>\n",
              "      <th>c_gpa</th>\n",
              "      <th>ytg</th>\n",
              "    </tr>\n",
              "  </thead>\n",
              "  <tbody>\n",
              "    <tr>\n",
              "      <th>ACT</th>\n",
              "      <td>1.000000</td>\n",
              "      <td>0.880746</td>\n",
              "      <td>0.303980</td>\n",
              "      <td>0.183879</td>\n",
              "      <td>0.874206</td>\n",
              "      <td>0.507349</td>\n",
              "      <td>-0.129880</td>\n",
              "    </tr>\n",
              "    <tr>\n",
              "      <th>SAT</th>\n",
              "      <td>0.880746</td>\n",
              "      <td>1.000000</td>\n",
              "      <td>0.430884</td>\n",
              "      <td>0.248544</td>\n",
              "      <td>0.898196</td>\n",
              "      <td>0.518436</td>\n",
              "      <td>-0.122640</td>\n",
              "    </tr>\n",
              "    <tr>\n",
              "      <th>PHLE</th>\n",
              "      <td>0.303980</td>\n",
              "      <td>0.430884</td>\n",
              "      <td>1.000000</td>\n",
              "      <td>0.649509</td>\n",
              "      <td>0.398772</td>\n",
              "      <td>0.366635</td>\n",
              "      <td>-0.168434</td>\n",
              "    </tr>\n",
              "    <tr>\n",
              "      <th>p_income</th>\n",
              "      <td>0.183879</td>\n",
              "      <td>0.248544</td>\n",
              "      <td>0.649509</td>\n",
              "      <td>1.000000</td>\n",
              "      <td>0.227238</td>\n",
              "      <td>0.460863</td>\n",
              "      <td>-0.239500</td>\n",
              "    </tr>\n",
              "    <tr>\n",
              "      <th>hs_gpa</th>\n",
              "      <td>0.874206</td>\n",
              "      <td>0.898196</td>\n",
              "      <td>0.398772</td>\n",
              "      <td>0.227238</td>\n",
              "      <td>1.000000</td>\n",
              "      <td>0.492489</td>\n",
              "      <td>-0.119524</td>\n",
              "    </tr>\n",
              "    <tr>\n",
              "      <th>c_gpa</th>\n",
              "      <td>0.507349</td>\n",
              "      <td>0.518436</td>\n",
              "      <td>0.366635</td>\n",
              "      <td>0.460863</td>\n",
              "      <td>0.492489</td>\n",
              "      <td>1.000000</td>\n",
              "      <td>-0.467499</td>\n",
              "    </tr>\n",
              "    <tr>\n",
              "      <th>ytg</th>\n",
              "      <td>-0.129880</td>\n",
              "      <td>-0.122640</td>\n",
              "      <td>-0.168434</td>\n",
              "      <td>-0.239500</td>\n",
              "      <td>-0.119524</td>\n",
              "      <td>-0.467499</td>\n",
              "      <td>1.000000</td>\n",
              "    </tr>\n",
              "  </tbody>\n",
              "</table>\n",
              "</div>\n",
              "      <button class=\"colab-df-convert\" onclick=\"convertToInteractive('df-cfb9903b-5d40-4536-b09d-f05802abd66a')\"\n",
              "              title=\"Convert this dataframe to an interactive table.\"\n",
              "              style=\"display:none;\">\n",
              "        \n",
              "  <svg xmlns=\"http://www.w3.org/2000/svg\" height=\"24px\"viewBox=\"0 0 24 24\"\n",
              "       width=\"24px\">\n",
              "    <path d=\"M0 0h24v24H0V0z\" fill=\"none\"/>\n",
              "    <path d=\"M18.56 5.44l.94 2.06.94-2.06 2.06-.94-2.06-.94-.94-2.06-.94 2.06-2.06.94zm-11 1L8.5 8.5l.94-2.06 2.06-.94-2.06-.94L8.5 2.5l-.94 2.06-2.06.94zm10 10l.94 2.06.94-2.06 2.06-.94-2.06-.94-.94-2.06-.94 2.06-2.06.94z\"/><path d=\"M17.41 7.96l-1.37-1.37c-.4-.4-.92-.59-1.43-.59-.52 0-1.04.2-1.43.59L10.3 9.45l-7.72 7.72c-.78.78-.78 2.05 0 2.83L4 21.41c.39.39.9.59 1.41.59.51 0 1.02-.2 1.41-.59l7.78-7.78 2.81-2.81c.8-.78.8-2.07 0-2.86zM5.41 20L4 18.59l7.72-7.72 1.47 1.35L5.41 20z\"/>\n",
              "  </svg>\n",
              "      </button>\n",
              "      \n",
              "  <style>\n",
              "    .colab-df-container {\n",
              "      display:flex;\n",
              "      flex-wrap:wrap;\n",
              "      gap: 12px;\n",
              "    }\n",
              "\n",
              "    .colab-df-convert {\n",
              "      background-color: #E8F0FE;\n",
              "      border: none;\n",
              "      border-radius: 50%;\n",
              "      cursor: pointer;\n",
              "      display: none;\n",
              "      fill: #1967D2;\n",
              "      height: 32px;\n",
              "      padding: 0 0 0 0;\n",
              "      width: 32px;\n",
              "    }\n",
              "\n",
              "    .colab-df-convert:hover {\n",
              "      background-color: #E2EBFA;\n",
              "      box-shadow: 0px 1px 2px rgba(60, 64, 67, 0.3), 0px 1px 3px 1px rgba(60, 64, 67, 0.15);\n",
              "      fill: #174EA6;\n",
              "    }\n",
              "\n",
              "    [theme=dark] .colab-df-convert {\n",
              "      background-color: #3B4455;\n",
              "      fill: #D2E3FC;\n",
              "    }\n",
              "\n",
              "    [theme=dark] .colab-df-convert:hover {\n",
              "      background-color: #434B5C;\n",
              "      box-shadow: 0px 1px 3px 1px rgba(0, 0, 0, 0.15);\n",
              "      filter: drop-shadow(0px 1px 2px rgba(0, 0, 0, 0.3));\n",
              "      fill: #FFFFFF;\n",
              "    }\n",
              "  </style>\n",
              "\n",
              "      <script>\n",
              "        const buttonEl =\n",
              "          document.querySelector('#df-cfb9903b-5d40-4536-b09d-f05802abd66a button.colab-df-convert');\n",
              "        buttonEl.style.display =\n",
              "          google.colab.kernel.accessAllowed ? 'block' : 'none';\n",
              "\n",
              "        async function convertToInteractive(key) {\n",
              "          const element = document.querySelector('#df-cfb9903b-5d40-4536-b09d-f05802abd66a');\n",
              "          const dataTable =\n",
              "            await google.colab.kernel.invokeFunction('convertToInteractive',\n",
              "                                                     [key], {});\n",
              "          if (!dataTable) return;\n",
              "\n",
              "          const docLinkHtml = 'Like what you see? Visit the ' +\n",
              "            '<a target=\"_blank\" href=https://colab.research.google.com/notebooks/data_table.ipynb>data table notebook</a>'\n",
              "            + ' to learn more about interactive tables.';\n",
              "          element.innerHTML = '';\n",
              "          dataTable['output_type'] = 'display_data';\n",
              "          await google.colab.output.renderOutput(dataTable, element);\n",
              "          const docLink = document.createElement('div');\n",
              "          docLink.innerHTML = docLinkHtml;\n",
              "          element.appendChild(docLink);\n",
              "        }\n",
              "      </script>\n",
              "    </div>\n",
              "  </div>\n",
              "  "
            ]
          },
          "metadata": {},
          "execution_count": 315
        }
      ]
    },
    {
      "cell_type": "code",
      "source": [
        "# If we were performing linear regression we would want to ommit the variables\n",
        "# that have strong colinearity. However, for the purpose of data exploration we\n",
        "# will leave in all variables other than years to graduate. \n",
        "\n",
        "df = df[['ACT','SAT','p_income','PHLE','hs_gpa','c_gpa']]"
      ],
      "metadata": {
        "id": "qLLoNt7ZBXh2"
      },
      "execution_count": 316,
      "outputs": []
    },
    {
      "cell_type": "markdown",
      "source": [
        "##Data Visualization\n",
        "Here we will form groups in the data that will recogize high performing students to low performing students. To visualize this phenomemon we will reduce the dimension of data from $\\mathbb{R}^6 \\to \\mathbb{R}^2$."
      ],
      "metadata": {
        "id": "rvVFyG5JRQLj"
      }
    },
    {
      "cell_type": "code",
      "source": [
        "# use KMeans to group higher dimensional data into two groups\n",
        "\n",
        "km = KMeans(n_clusters=2)\n",
        "km.fit(df.values.reshape(-1, 6))\n",
        "centers = km.cluster_centers_.reshape(-1, 6)\n",
        "colors = km.labels_"
      ],
      "metadata": {
        "id": "U83PmFipD5Wp"
      },
      "execution_count": 317,
      "outputs": []
    },
    {
      "cell_type": "code",
      "source": [
        "# use TSNE to reduce data to 2 dimensions\n",
        "\n",
        "dim_red = TSNE(n_components = 2, n_iter = 300, perplexity = 5, random_state = 444) #444\n",
        "dim_red.fit(df.values.reshape(1000, -1))\n",
        "df_reduced = dim_red.embedding_ "
      ],
      "metadata": {
        "colab": {
          "base_uri": "https://localhost:8080/"
        },
        "id": "QFJrfNidTspY",
        "outputId": "a2ed9f7a-9983-4e5e-f111-621407cbb48b"
      },
      "execution_count": 318,
      "outputs": [
        {
          "output_type": "stream",
          "name": "stderr",
          "text": [
            "/usr/local/lib/python3.7/dist-packages/sklearn/manifold/_t_sne.py:783: FutureWarning: The default initialization in TSNE will change from 'random' to 'pca' in 1.2.\n",
            "  FutureWarning,\n",
            "/usr/local/lib/python3.7/dist-packages/sklearn/manifold/_t_sne.py:793: FutureWarning: The default learning rate in TSNE will change from 200.0 to 'auto' in 1.2.\n",
            "  FutureWarning,\n"
          ]
        }
      ]
    },
    {
      "cell_type": "code",
      "source": [
        "# plot scatter plot \n",
        "plt.scatter(*df_reduced.T, c = colors) "
      ],
      "metadata": {
        "colab": {
          "base_uri": "https://localhost:8080/",
          "height": 283
        },
        "id": "8xyQYtbkV8uC",
        "outputId": "758cf23d-e01d-4344-a7f3-fb9871974e0f"
      },
      "execution_count": 319,
      "outputs": [
        {
          "output_type": "execute_result",
          "data": {
            "text/plain": [
              "<matplotlib.collections.PathCollection at 0x7fdc5b9b4fd0>"
            ]
          },
          "metadata": {},
          "execution_count": 319
        },
        {
          "output_type": "display_data",
          "data": {
            "text/plain": [
              "<Figure size 432x288 with 1 Axes>"
            ],
            "image/png": "[encoded data removed]"
          },
          "metadata": {
            "needs_background": "light"
          }
        }
      ]
    },
    {
      "cell_type": "markdown",
      "source": [
        "##Interpretation\n",
        "Notice that there are two distinct groups of points in the graph above. This displays that KMeans was able to succesfully group the data to form groups around similar attributes. Futhermore, this displays that the magnitude of the variables are correlated which allows for this pattern to form. Now we will explore the difference between the groups:"
      ],
      "metadata": {
        "id": "BadApGP3R6bF"
      }
    },
    {
      "cell_type": "code",
      "source": [
        "# compare the difference between cluster center 0 and cluster center 1\n",
        "\n",
        "print(f\"Difference in ACT: {centers[0][0] - centers[1][0]:.2f}\")\n",
        "print(f\"Difference in Standardized SAT: {centers[0][1] - centers[1][1]:.2f}\")\n",
        "print(f\"Difference in Family income: {centers[0][2] - centers[1][2]:.2f}\")\n",
        "print(f\"Difference in Highest form of education: {centers[0][3] - centers[1][3]:.2f}\")\n",
        "print(f\"Difference in highschool GPA: {centers[0][4] - centers[1][4]:.3f}\")\n",
        "print(f\"Difference in college GPA: {centers[0][5] - centers[1][5]:.2f}\")"
      ],
      "metadata": {
        "colab": {
          "base_uri": "https://localhost:8080/"
        },
        "id": "A1oHEi38VLL5",
        "outputId": "28f37964-0527-481c-f765-76c55693301a"
      },
      "execution_count": 321,
      "outputs": [
        {
          "output_type": "stream",
          "name": "stdout",
          "text": [
            "Difference in ACT: 0.84\n",
            "Difference in Standardized SAT: 0.41\n",
            "Difference in Family income: 31551.53\n",
            "Difference in Highest form of education: 1.64\n",
            "Difference in highschool GPA: 0.107\n",
            "Difference in college GPA: 0.18\n"
          ]
        }
      ]
    },
    {
      "cell_type": "markdown",
      "source": [
        "As shown from these differences, the group of people that are likely to have a better GPA and test scores also tend to come from more affluent families and have parents that completed a higher form of education. "
      ],
      "metadata": {
        "id": "2Vw4DBkWYQaj"
      }
    }
  ]
}